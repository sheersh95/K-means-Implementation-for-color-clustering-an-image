{
 "cells": [
  {
   "cell_type": "code",
   "execution_count": 1,
   "metadata": {},
   "outputs": [],
   "source": [
    "import numpy as np\n",
    "import matplotlib.pyplot as plt\n",
    "import cv2"
   ]
  },
  {
   "cell_type": "code",
   "execution_count": 2,
   "metadata": {},
   "outputs": [],
   "source": [
    "img = cv2.imread('baboon.jpg')   #Taking input image"
   ]
  },
  {
   "cell_type": "code",
   "execution_count": 3,
   "metadata": {},
   "outputs": [],
   "source": [
    "img = img.reshape(img.shape[0]*img.shape[1],3) #Reshaping to 2d matrix"
   ]
  },
  {
   "cell_type": "code",
   "execution_count": 4,
   "metadata": {},
   "outputs": [],
   "source": [
    "thresold = 0.5  #Thresold for when to stop kmeans"
   ]
  },
  {
   "cell_type": "code",
   "execution_count": 5,
   "metadata": {},
   "outputs": [],
   "source": [
    "def initiliaze_mu(k):\n",
    "    initmu = []\n",
    "    updated_mu = []\n",
    "    for i in range(k):\n",
    "        initmu.append(np.random.randint(low = 0,high = 255,size = 3).tolist())\n",
    "        updated_mu.append(np.random.randint(low = 0,high = 10,size = 3).tolist())\n",
    "    return initmu,updated_mu"
   ]
  },
  {
   "cell_type": "code",
   "execution_count": 6,
   "metadata": {},
   "outputs": [],
   "source": [
    "def caldistance_3d(x,u):  #3d Eucledian distance \n",
    "    d = np.sqrt(((x[0] - u[0]) * (x[0] - u[0])) + ((x[1] - u[1]) * (x[1] - u[1])) + ((x[2] - u[2]) * (x[2] - u[2])))\n",
    "    return d"
   ]
  },
  {
   "cell_type": "code",
   "execution_count": 7,
   "metadata": {},
   "outputs": [],
   "source": [
    "def perform_clustering_3d(mu,k,X):   #Calculate classification vector for all datpoints\n",
    "    classvec = []\n",
    "    for i in X:\n",
    "        compare = []\n",
    "        for j in mu:\n",
    "            compare.append(caldistance_3d(i,j))\n",
    "        c = np.argmin(compare)\n",
    "        classvec.append(c)\n",
    "    return classvec  "
   ]
  },
  {
   "cell_type": "code",
   "execution_count": 8,
   "metadata": {},
   "outputs": [],
   "source": [
    "def compute_mu_3d(list1,mu):   #Update centroids\n",
    "    sumx = 0\n",
    "    sumy = 0\n",
    "    sumz = 0\n",
    "    if len(list1) == 0:\n",
    "        mux = 0\n",
    "        muy = 0\n",
    "        muz = 0\n",
    "    else:    \n",
    "        for i in list1:\n",
    "            sumx = sumx + i[0]\n",
    "            sumy = sumy + i[1]\n",
    "            sumz = sumz + i[2]\n",
    "        mux = sumx/len(list1)\n",
    "        muy = sumy/len(list1)\n",
    "        muz = sumz/len(list1)\n",
    "    return mux,muy,muz"
   ]
  },
  {
   "cell_type": "code",
   "execution_count": 9,
   "metadata": {},
   "outputs": [],
   "source": [
    "def compare(mu,umu):  #Checking with thresold to know when to stop kmeans\n",
    "    for i in range(0,len(mu)):\n",
    "        for j in range(0,len(mu[0])):\n",
    "            if mu[i][j] - umu[i][j] > thresold:\n",
    "                return 1\n",
    "            else:\n",
    "                continue\n",
    "    return 0   "
   ]
  },
  {
   "cell_type": "code",
   "execution_count": 10,
   "metadata": {},
   "outputs": [],
   "source": [
    "mu = []\n",
    "prev = []\n",
    "mu,prev = initiliaze_mu(3)#5,10,20 #Initialize centroid and take a random prev centroid to check initial condition"
   ]
  },
  {
   "cell_type": "code",
   "execution_count": 11,
   "metadata": {},
   "outputs": [],
   "source": [
    "k = 3 #5,10, 20 #Initialize k for number of clusters"
   ]
  },
  {
   "cell_type": "code",
   "execution_count": null,
   "metadata": {},
   "outputs": [],
   "source": [
    "while(compare(mu,prev)): #Perform Kmeans\n",
    "    prev = mu.copy()\n",
    "    classvec = perform_clustering_3d(mu,k,img)\n",
    "    list3d = [[] for x in range(k)]\n",
    "    count = 0\n",
    "    for i in img:\n",
    "            list3d[classvec[count]].append(i.tolist())\n",
    "            count += 1        \n",
    "    updated_mu = []\n",
    "    temp = 0\n",
    "    for i in list3d:\n",
    "        updated_mu.append(compute_mu_3d(i,mu[temp]))\n",
    "        temp += 1\n",
    "    mu = updated_mu.copy()"
   ]
  },
  {
   "cell_type": "code",
   "execution_count": null,
   "metadata": {},
   "outputs": [],
   "source": [
    "classvec = np.asarray(classvec) #Make classification vector and centroid list numpy array\n",
    "mu = np.asarray(mu)\n"
   ]
  },
  {
   "cell_type": "code",
   "execution_count": null,
   "metadata": {},
   "outputs": [],
   "source": [
    "output = cv2.imread('baboon.jpg')  #Get dimensions of original image"
   ]
  },
  {
   "cell_type": "code",
   "execution_count": null,
   "metadata": {},
   "outputs": [],
   "source": [
    "temp = 0            #Compute image with k colors\n",
    "for i in range(0,output.shape[0]):\n",
    "    for j in range(0,output.shape[1]):\n",
    "        output[i,j] = mu[classvec[temp]]\n",
    "        temp += 1"
   ]
  },
  {
   "cell_type": "code",
   "execution_count": null,
   "metadata": {},
   "outputs": [],
   "source": [
    "cv2.imwrite(\"task3_baboon_3.jpg\",output) #Write output image "
   ]
  },
  {
   "cell_type": "code",
   "execution_count": null,
   "metadata": {},
   "outputs": [],
   "source": []
  }
 ],
 "metadata": {
  "kernelspec": {
   "display_name": "Python 3",
   "language": "python",
   "name": "python3"
  },
  "language_info": {
   "codemirror_mode": {
    "name": "ipython",
    "version": 3
   },
   "file_extension": ".py",
   "mimetype": "text/x-python",
   "name": "python",
   "nbconvert_exporter": "python",
   "pygments_lexer": "ipython3",
   "version": "3.6.5"
  }
 },
 "nbformat": 4,
 "nbformat_minor": 2
}
